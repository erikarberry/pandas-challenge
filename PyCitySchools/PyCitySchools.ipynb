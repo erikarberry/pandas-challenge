{
 "cells": [
  {
   "cell_type": "code",
   "execution_count": 112,
   "metadata": {},
   "outputs": [],
   "source": [
    "# Dependencies\n",
    "import pandas as pd"
   ]
  },
  {
   "cell_type": "code",
   "execution_count": 113,
   "metadata": {},
   "outputs": [],
   "source": [
    "# Load files\n",
    "school_data_to_load = \"schools_complete.csv\"\n",
    "student_data_to_load = \"students_complete.csv\""
   ]
  },
  {
   "cell_type": "code",
   "execution_count": 114,
   "metadata": {},
   "outputs": [],
   "source": [
    "# Read School and Student Data File and store into Pandas Data Frames\n",
    "school_data = pd.read_csv(school_data_to_load)\n",
    "student_data = pd.read_csv(student_data_to_load)"
   ]
  },
  {
   "cell_type": "code",
   "execution_count": 115,
   "metadata": {},
   "outputs": [
    {
     "data": {
      "text/html": [
       "<div>\n",
       "<style scoped>\n",
       "    .dataframe tbody tr th:only-of-type {\n",
       "        vertical-align: middle;\n",
       "    }\n",
       "\n",
       "    .dataframe tbody tr th {\n",
       "        vertical-align: top;\n",
       "    }\n",
       "\n",
       "    .dataframe thead th {\n",
       "        text-align: right;\n",
       "    }\n",
       "</style>\n",
       "<table border=\"1\" class=\"dataframe\">\n",
       "  <thead>\n",
       "    <tr style=\"text-align: right;\">\n",
       "      <th></th>\n",
       "      <th>Student ID</th>\n",
       "      <th>student_name</th>\n",
       "      <th>gender</th>\n",
       "      <th>grade</th>\n",
       "      <th>school_name</th>\n",
       "      <th>reading_score</th>\n",
       "      <th>math_score</th>\n",
       "      <th>School ID</th>\n",
       "      <th>type</th>\n",
       "      <th>size</th>\n",
       "      <th>budget</th>\n",
       "    </tr>\n",
       "  </thead>\n",
       "  <tbody>\n",
       "    <tr>\n",
       "      <td>0</td>\n",
       "      <td>0</td>\n",
       "      <td>Paul Bradley</td>\n",
       "      <td>M</td>\n",
       "      <td>9th</td>\n",
       "      <td>Huang High School</td>\n",
       "      <td>66</td>\n",
       "      <td>79</td>\n",
       "      <td>0</td>\n",
       "      <td>District</td>\n",
       "      <td>2917</td>\n",
       "      <td>1910635</td>\n",
       "    </tr>\n",
       "    <tr>\n",
       "      <td>1</td>\n",
       "      <td>1</td>\n",
       "      <td>Victor Smith</td>\n",
       "      <td>M</td>\n",
       "      <td>12th</td>\n",
       "      <td>Huang High School</td>\n",
       "      <td>94</td>\n",
       "      <td>61</td>\n",
       "      <td>0</td>\n",
       "      <td>District</td>\n",
       "      <td>2917</td>\n",
       "      <td>1910635</td>\n",
       "    </tr>\n",
       "    <tr>\n",
       "      <td>2</td>\n",
       "      <td>2</td>\n",
       "      <td>Kevin Rodriguez</td>\n",
       "      <td>M</td>\n",
       "      <td>12th</td>\n",
       "      <td>Huang High School</td>\n",
       "      <td>90</td>\n",
       "      <td>60</td>\n",
       "      <td>0</td>\n",
       "      <td>District</td>\n",
       "      <td>2917</td>\n",
       "      <td>1910635</td>\n",
       "    </tr>\n",
       "    <tr>\n",
       "      <td>3</td>\n",
       "      <td>3</td>\n",
       "      <td>Dr. Richard Scott</td>\n",
       "      <td>M</td>\n",
       "      <td>12th</td>\n",
       "      <td>Huang High School</td>\n",
       "      <td>67</td>\n",
       "      <td>58</td>\n",
       "      <td>0</td>\n",
       "      <td>District</td>\n",
       "      <td>2917</td>\n",
       "      <td>1910635</td>\n",
       "    </tr>\n",
       "    <tr>\n",
       "      <td>4</td>\n",
       "      <td>4</td>\n",
       "      <td>Bonnie Ray</td>\n",
       "      <td>F</td>\n",
       "      <td>9th</td>\n",
       "      <td>Huang High School</td>\n",
       "      <td>97</td>\n",
       "      <td>84</td>\n",
       "      <td>0</td>\n",
       "      <td>District</td>\n",
       "      <td>2917</td>\n",
       "      <td>1910635</td>\n",
       "    </tr>\n",
       "  </tbody>\n",
       "</table>\n",
       "</div>"
      ],
      "text/plain": [
       "   Student ID       student_name gender grade        school_name  \\\n",
       "0           0       Paul Bradley      M   9th  Huang High School   \n",
       "1           1       Victor Smith      M  12th  Huang High School   \n",
       "2           2    Kevin Rodriguez      M  12th  Huang High School   \n",
       "3           3  Dr. Richard Scott      M  12th  Huang High School   \n",
       "4           4         Bonnie Ray      F   9th  Huang High School   \n",
       "\n",
       "   reading_score  math_score  School ID      type  size   budget  \n",
       "0             66          79          0  District  2917  1910635  \n",
       "1             94          61          0  District  2917  1910635  \n",
       "2             90          60          0  District  2917  1910635  \n",
       "3             67          58          0  District  2917  1910635  \n",
       "4             97          84          0  District  2917  1910635  "
      ]
     },
     "execution_count": 115,
     "metadata": {},
     "output_type": "execute_result"
    }
   ],
   "source": [
    "# Combine the data into a single dataframe\n",
    "data_complete_df = pd.merge(student_data, school_data, how=\"left\", on=[\"school_name\", \"school_name\"])\n",
    "data_complete_df.head()"
   ]
  },
  {
   "cell_type": "code",
   "execution_count": 116,
   "metadata": {},
   "outputs": [
    {
     "data": {
      "text/plain": [
       "15"
      ]
     },
     "execution_count": 116,
     "metadata": {},
     "output_type": "execute_result"
    }
   ],
   "source": [
    "# Calculate the total number of schools\n",
    "total_number_schools = len(school_data[\"School ID\"].unique())\n",
    "total_number_schools"
   ]
  },
  {
   "cell_type": "code",
   "execution_count": 117,
   "metadata": {},
   "outputs": [
    {
     "data": {
      "text/plain": [
       "39170"
      ]
     },
     "execution_count": 117,
     "metadata": {},
     "output_type": "execute_result"
    }
   ],
   "source": [
    "# Calculate the total number of students\n",
    "total_number_students = len(student_data[\"Student ID\"].unique())\n",
    "total_number_students"
   ]
  },
  {
   "cell_type": "code",
   "execution_count": 118,
   "metadata": {},
   "outputs": [
    {
     "data": {
      "text/plain": [
       "24649428"
      ]
     },
     "execution_count": 118,
     "metadata": {},
     "output_type": "execute_result"
    }
   ],
   "source": [
    "# Combined budget of all schools\n",
    "total_budget = school_data[\"budget\"].sum()\n",
    "total_budget"
   ]
  },
  {
   "cell_type": "code",
   "execution_count": 119,
   "metadata": {},
   "outputs": [
    {
     "data": {
      "text/plain": [
       "81.87784018381414"
      ]
     },
     "execution_count": 119,
     "metadata": {},
     "output_type": "execute_result"
    }
   ],
   "source": [
    "# Calculate the average Reading score\n",
    "reading_score_avg = student_data[\"reading_score\"].mean()\n",
    "reading_score_avg"
   ]
  },
  {
   "cell_type": "code",
   "execution_count": 120,
   "metadata": {},
   "outputs": [
    {
     "data": {
      "text/plain": [
       "78.98537145774827"
      ]
     },
     "execution_count": 120,
     "metadata": {},
     "output_type": "execute_result"
    }
   ],
   "source": [
    "# Calculate the average Math score\n",
    "math_score_avg = student_data[\"math_score\"].mean()\n",
    "math_score_avg"
   ]
  },
  {
   "cell_type": "code",
   "execution_count": 121,
   "metadata": {},
   "outputs": [
    {
     "data": {
      "text/plain": [
       "85.80546336482001"
      ]
     },
     "execution_count": 121,
     "metadata": {},
     "output_type": "execute_result"
    }
   ],
   "source": [
    "# Calculate the number and percent passing in reading (assuming a score <69 is an F)\n",
    "number_passing_reading = len(student_data.loc[student_data['reading_score'] >= 70 , :])\n",
    "number_passing_reading\n",
    "\n",
    "percent_passing_reading = (number_passing_reading / total_number_students)*100\n",
    "percent_passing_reading"
   ]
  },
  {
   "cell_type": "code",
   "execution_count": 122,
   "metadata": {},
   "outputs": [
    {
     "data": {
      "text/plain": [
       "74.9808526933878"
      ]
     },
     "execution_count": 122,
     "metadata": {},
     "output_type": "execute_result"
    }
   ],
   "source": [
    "# Calculate the number and percent passing in math (assuming a score <69 is an F)\n",
    "number_passing_math = len(student_data.loc[student_data['math_score'] >= 70 , :])\n",
    "number_passing_math\n",
    "\n",
    "percent_passing_math = (number_passing_math / total_number_students)*100\n",
    "percent_passing_math"
   ]
  },
  {
   "cell_type": "code",
   "execution_count": 123,
   "metadata": {},
   "outputs": [
    {
     "data": {
      "text/plain": [
       "80.39315802910392"
      ]
     },
     "execution_count": 123,
     "metadata": {},
     "output_type": "execute_result"
    }
   ],
   "source": [
    "# Calculate the overall passing rate i.e. (avg. math score + avg. reading score)/2\n",
    "overall_passing_rate = (percent_passing_reading + percent_passing_math)/2\n",
    "overall_passing_rate"
   ]
  },
  {
   "cell_type": "code",
   "execution_count": 124,
   "metadata": {
    "scrolled": true
   },
   "outputs": [
    {
     "data": {
      "text/html": [
       "<div>\n",
       "<style scoped>\n",
       "    .dataframe tbody tr th:only-of-type {\n",
       "        vertical-align: middle;\n",
       "    }\n",
       "\n",
       "    .dataframe tbody tr th {\n",
       "        vertical-align: top;\n",
       "    }\n",
       "\n",
       "    .dataframe thead th {\n",
       "        text-align: right;\n",
       "    }\n",
       "</style>\n",
       "<table border=\"1\" class=\"dataframe\">\n",
       "  <thead>\n",
       "    <tr style=\"text-align: right;\">\n",
       "      <th></th>\n",
       "      <th>Total Schools</th>\n",
       "      <th>Total Number of Students</th>\n",
       "      <th>Total Budget</th>\n",
       "      <th>Average Reading Score</th>\n",
       "      <th>% Passing Reading</th>\n",
       "      <th>Average Math Score</th>\n",
       "      <th>% Passing Math</th>\n",
       "      <th>% Overall Passing Rate</th>\n",
       "    </tr>\n",
       "  </thead>\n",
       "  <tbody>\n",
       "    <tr>\n",
       "      <td>0</td>\n",
       "      <td>15</td>\n",
       "      <td>39,170.0</td>\n",
       "      <td>$24,649,428.00</td>\n",
       "      <td>82</td>\n",
       "      <td>85.81%</td>\n",
       "      <td>79</td>\n",
       "      <td>74.98%</td>\n",
       "      <td>80.39%</td>\n",
       "    </tr>\n",
       "  </tbody>\n",
       "</table>\n",
       "</div>"
      ],
      "text/plain": [
       "   Total Schools Total Number of Students    Total Budget  \\\n",
       "0             15                 39,170.0  $24,649,428.00   \n",
       "\n",
       "   Average Reading Score % Passing Reading  Average Math Score % Passing Math  \\\n",
       "0                     82            85.81%                  79         74.98%   \n",
       "\n",
       "  % Overall Passing Rate  \n",
       "0                 80.39%  "
      ]
     },
     "execution_count": 124,
     "metadata": {},
     "output_type": "execute_result"
    }
   ],
   "source": [
    "# Create a high level snapshot (in table form) of the district's key metrics\n",
    "district_summary = [{\n",
    "        \"Total Schools\": total_number_schools, \n",
    "        \"Total Number of Students\": total_number_students, \n",
    "        \"Total Budget\": total_budget, \n",
    "        \"Average Reading Score\": round(reading_score_avg),\n",
    "        \"% Passing Reading\": percent_passing_reading,\n",
    "        \"Average Math Score\": round(math_score_avg),\n",
    "        \"% Passing Math\": percent_passing_math,\n",
    "        \"% Overall Passing Rate\": overall_passing_rate}]\n",
    "district_summary_table = pd.DataFrame(district_summary)       \n",
    "\n",
    "# Format Table\n",
    "district_summary_table[\"Total Number of Students\"] = district_summary_table[\"Total Number of Students\"].astype(float).map(\"{:,}\".format)\n",
    "district_summary_table[\"Total Budget\"] = district_summary_table[\"Total Budget\"].astype(float).map(\"${:,.2f}\".format)\n",
    "district_summary_table[\"% Passing Reading\"] = district_summary_table[\"% Passing Reading\"].astype(float).map(\"{:,.2f}%\".format)\n",
    "district_summary_table[\"% Passing Math\"] = district_summary_table[\"% Passing Math\"].astype(float).map(\"{:,.2f}%\".format)\n",
    "district_summary_table[\"% Overall Passing Rate\"] = district_summary_table[\"% Overall Passing Rate\"].astype(float).map(\"{:,.2f}%\".format)\n",
    "\n",
    "# Display Table\n",
    "district_summary_table"
   ]
  },
  {
   "cell_type": "code",
   "execution_count": 377,
   "metadata": {},
   "outputs": [
    {
     "data": {
      "text/html": [
       "<div>\n",
       "<style scoped>\n",
       "    .dataframe tbody tr th:only-of-type {\n",
       "        vertical-align: middle;\n",
       "    }\n",
       "\n",
       "    .dataframe tbody tr th {\n",
       "        vertical-align: top;\n",
       "    }\n",
       "\n",
       "    .dataframe thead th {\n",
       "        text-align: right;\n",
       "    }\n",
       "</style>\n",
       "<table border=\"1\" class=\"dataframe\">\n",
       "  <thead>\n",
       "    <tr style=\"text-align: right;\">\n",
       "      <th></th>\n",
       "      <th>School ID</th>\n",
       "      <th>school_name</th>\n",
       "      <th>type</th>\n",
       "      <th>size</th>\n",
       "      <th>budget</th>\n",
       "      <th>Student ID</th>\n",
       "      <th>student_name</th>\n",
       "      <th>gender</th>\n",
       "      <th>grade</th>\n",
       "      <th>reading_score</th>\n",
       "      <th>math_score</th>\n",
       "    </tr>\n",
       "  </thead>\n",
       "  <tbody>\n",
       "    <tr>\n",
       "      <td>0</td>\n",
       "      <td>0</td>\n",
       "      <td>Huang High School</td>\n",
       "      <td>District</td>\n",
       "      <td>2917</td>\n",
       "      <td>1910635</td>\n",
       "      <td>0</td>\n",
       "      <td>Paul Bradley</td>\n",
       "      <td>M</td>\n",
       "      <td>9th</td>\n",
       "      <td>66</td>\n",
       "      <td>79</td>\n",
       "    </tr>\n",
       "    <tr>\n",
       "      <td>1</td>\n",
       "      <td>0</td>\n",
       "      <td>Huang High School</td>\n",
       "      <td>District</td>\n",
       "      <td>2917</td>\n",
       "      <td>1910635</td>\n",
       "      <td>1</td>\n",
       "      <td>Victor Smith</td>\n",
       "      <td>M</td>\n",
       "      <td>12th</td>\n",
       "      <td>94</td>\n",
       "      <td>61</td>\n",
       "    </tr>\n",
       "    <tr>\n",
       "      <td>2</td>\n",
       "      <td>0</td>\n",
       "      <td>Huang High School</td>\n",
       "      <td>District</td>\n",
       "      <td>2917</td>\n",
       "      <td>1910635</td>\n",
       "      <td>2</td>\n",
       "      <td>Kevin Rodriguez</td>\n",
       "      <td>M</td>\n",
       "      <td>12th</td>\n",
       "      <td>90</td>\n",
       "      <td>60</td>\n",
       "    </tr>\n",
       "    <tr>\n",
       "      <td>3</td>\n",
       "      <td>0</td>\n",
       "      <td>Huang High School</td>\n",
       "      <td>District</td>\n",
       "      <td>2917</td>\n",
       "      <td>1910635</td>\n",
       "      <td>3</td>\n",
       "      <td>Dr. Richard Scott</td>\n",
       "      <td>M</td>\n",
       "      <td>12th</td>\n",
       "      <td>67</td>\n",
       "      <td>58</td>\n",
       "    </tr>\n",
       "    <tr>\n",
       "      <td>4</td>\n",
       "      <td>0</td>\n",
       "      <td>Huang High School</td>\n",
       "      <td>District</td>\n",
       "      <td>2917</td>\n",
       "      <td>1910635</td>\n",
       "      <td>4</td>\n",
       "      <td>Bonnie Ray</td>\n",
       "      <td>F</td>\n",
       "      <td>9th</td>\n",
       "      <td>97</td>\n",
       "      <td>84</td>\n",
       "    </tr>\n",
       "    <tr>\n",
       "      <td>...</td>\n",
       "      <td>...</td>\n",
       "      <td>...</td>\n",
       "      <td>...</td>\n",
       "      <td>...</td>\n",
       "      <td>...</td>\n",
       "      <td>...</td>\n",
       "      <td>...</td>\n",
       "      <td>...</td>\n",
       "      <td>...</td>\n",
       "      <td>...</td>\n",
       "      <td>...</td>\n",
       "    </tr>\n",
       "    <tr>\n",
       "      <td>39165</td>\n",
       "      <td>14</td>\n",
       "      <td>Thomas High School</td>\n",
       "      <td>Charter</td>\n",
       "      <td>1635</td>\n",
       "      <td>1043130</td>\n",
       "      <td>39165</td>\n",
       "      <td>Donna Howard</td>\n",
       "      <td>F</td>\n",
       "      <td>12th</td>\n",
       "      <td>99</td>\n",
       "      <td>90</td>\n",
       "    </tr>\n",
       "    <tr>\n",
       "      <td>39166</td>\n",
       "      <td>14</td>\n",
       "      <td>Thomas High School</td>\n",
       "      <td>Charter</td>\n",
       "      <td>1635</td>\n",
       "      <td>1043130</td>\n",
       "      <td>39166</td>\n",
       "      <td>Dawn Bell</td>\n",
       "      <td>F</td>\n",
       "      <td>10th</td>\n",
       "      <td>95</td>\n",
       "      <td>70</td>\n",
       "    </tr>\n",
       "    <tr>\n",
       "      <td>39167</td>\n",
       "      <td>14</td>\n",
       "      <td>Thomas High School</td>\n",
       "      <td>Charter</td>\n",
       "      <td>1635</td>\n",
       "      <td>1043130</td>\n",
       "      <td>39167</td>\n",
       "      <td>Rebecca Tanner</td>\n",
       "      <td>F</td>\n",
       "      <td>9th</td>\n",
       "      <td>73</td>\n",
       "      <td>84</td>\n",
       "    </tr>\n",
       "    <tr>\n",
       "      <td>39168</td>\n",
       "      <td>14</td>\n",
       "      <td>Thomas High School</td>\n",
       "      <td>Charter</td>\n",
       "      <td>1635</td>\n",
       "      <td>1043130</td>\n",
       "      <td>39168</td>\n",
       "      <td>Desiree Kidd</td>\n",
       "      <td>F</td>\n",
       "      <td>10th</td>\n",
       "      <td>99</td>\n",
       "      <td>90</td>\n",
       "    </tr>\n",
       "    <tr>\n",
       "      <td>39169</td>\n",
       "      <td>14</td>\n",
       "      <td>Thomas High School</td>\n",
       "      <td>Charter</td>\n",
       "      <td>1635</td>\n",
       "      <td>1043130</td>\n",
       "      <td>39169</td>\n",
       "      <td>Carolyn Jackson</td>\n",
       "      <td>F</td>\n",
       "      <td>11th</td>\n",
       "      <td>95</td>\n",
       "      <td>75</td>\n",
       "    </tr>\n",
       "  </tbody>\n",
       "</table>\n",
       "<p>39170 rows × 11 columns</p>\n",
       "</div>"
      ],
      "text/plain": [
       "       School ID         school_name      type  size   budget  Student ID  \\\n",
       "0              0   Huang High School  District  2917  1910635           0   \n",
       "1              0   Huang High School  District  2917  1910635           1   \n",
       "2              0   Huang High School  District  2917  1910635           2   \n",
       "3              0   Huang High School  District  2917  1910635           3   \n",
       "4              0   Huang High School  District  2917  1910635           4   \n",
       "...          ...                 ...       ...   ...      ...         ...   \n",
       "39165         14  Thomas High School   Charter  1635  1043130       39165   \n",
       "39166         14  Thomas High School   Charter  1635  1043130       39166   \n",
       "39167         14  Thomas High School   Charter  1635  1043130       39167   \n",
       "39168         14  Thomas High School   Charter  1635  1043130       39168   \n",
       "39169         14  Thomas High School   Charter  1635  1043130       39169   \n",
       "\n",
       "            student_name gender grade  reading_score  math_score  \n",
       "0           Paul Bradley      M   9th             66          79  \n",
       "1           Victor Smith      M  12th             94          61  \n",
       "2        Kevin Rodriguez      M  12th             90          60  \n",
       "3      Dr. Richard Scott      M  12th             67          58  \n",
       "4             Bonnie Ray      F   9th             97          84  \n",
       "...                  ...    ...   ...            ...         ...  \n",
       "39165       Donna Howard      F  12th             99          90  \n",
       "39166          Dawn Bell      F  10th             95          70  \n",
       "39167     Rebecca Tanner      F   9th             73          84  \n",
       "39168       Desiree Kidd      F  10th             99          90  \n",
       "39169    Carolyn Jackson      F  11th             95          75  \n",
       "\n",
       "[39170 rows x 11 columns]"
      ]
     },
     "execution_count": 377,
     "metadata": {},
     "output_type": "execute_result"
    }
   ],
   "source": [
    "#Merge original data for school summary\n",
    "school_summary = pd.merge(school_data, student_data, how=\"left\", on=[\"school_name\", \"school_name\"])\n",
    "school_summary"
   ]
  },
  {
   "cell_type": "code",
   "execution_count": 400,
   "metadata": {},
   "outputs": [
    {
     "data": {
      "text/plain": [
       "school_name\n",
       "Huang High School        District\n",
       "Figueroa High School     District\n",
       "Shelton High School       Charter\n",
       "Hernandez High School    District\n",
       "Griffin High School       Charter\n",
       "Wilson High School        Charter\n",
       "Cabrera High School       Charter\n",
       "Bailey High School       District\n",
       "Holden High School        Charter\n",
       "Pena High School          Charter\n",
       "Wright High School        Charter\n",
       "Rodriguez High School    District\n",
       "Johnson High School      District\n",
       "Ford High School         District\n",
       "Thomas High School        Charter\n",
       "Name: type, dtype: object"
      ]
     },
     "execution_count": 400,
     "metadata": {},
     "output_type": "execute_result"
    }
   ],
   "source": [
    "# Find school type\n",
    "school_summary = data_complete_df.groupby(\"school_name\")\n",
    "school_type = school_data.set_index([\"school_name\"])[\"type\"]\n",
    "school_type"
   ]
  },
  {
   "cell_type": "code",
   "execution_count": 404,
   "metadata": {
    "scrolled": true
   },
   "outputs": [
    {
     "data": {
      "text/plain": [
       "school_name\n",
       "Bailey High School       4976\n",
       "Cabrera High School      1858\n",
       "Figueroa High School     2949\n",
       "Ford High School         2739\n",
       "Griffin High School      1468\n",
       "Hernandez High School    4635\n",
       "Holden High School        427\n",
       "Huang High School        2917\n",
       "Johnson High School      4761\n",
       "Pena High School          962\n",
       "Rodriguez High School    3999\n",
       "Shelton High School      1761\n",
       "Thomas High School       1635\n",
       "Wilson High School       2283\n",
       "Wright High School       1800\n",
       "Name: size, dtype: int64"
      ]
     },
     "execution_count": 404,
     "metadata": {},
     "output_type": "execute_result"
    }
   ],
   "source": [
    "# Find average daily membership(ADM), aka total number of students per school\n",
    "school_summary = data_complete_df.groupby(\"school_name\")\n",
    "school_ADM = school_summary[\"size\"].count()\n",
    "school_ADM"
   ]
  },
  {
   "cell_type": "code",
   "execution_count": 405,
   "metadata": {},
   "outputs": [
    {
     "data": {
      "text/plain": [
       "school_name\n",
       "Huang High School        1910635\n",
       "Figueroa High School     1884411\n",
       "Shelton High School      1056600\n",
       "Hernandez High School    3022020\n",
       "Griffin High School       917500\n",
       "Wilson High School       1319574\n",
       "Cabrera High School      1081356\n",
       "Bailey High School       3124928\n",
       "Holden High School        248087\n",
       "Pena High School          585858\n",
       "Wright High School       1049400\n",
       "Rodriguez High School    2547363\n",
       "Johnson High School      3094650\n",
       "Ford High School         1763916\n",
       "Thomas High School       1043130\n",
       "Name: budget, dtype: int64"
      ]
     },
     "execution_count": 405,
     "metadata": {},
     "output_type": "execute_result"
    }
   ],
   "source": [
    "#Find the budget per school\n",
    "school_summary = data_complete_df.groupby(\"school_name\")\n",
    "school_budget = school_data.set_index([\"school_name\"])[\"budget\"]\n",
    "school_budget"
   ]
  },
  {
   "cell_type": "code",
   "execution_count": 406,
   "metadata": {},
   "outputs": [
    {
     "data": {
      "text/plain": [
       "school_name\n",
       "Bailey High School       628.0\n",
       "Cabrera High School      582.0\n",
       "Figueroa High School     639.0\n",
       "Ford High School         644.0\n",
       "Griffin High School      625.0\n",
       "Hernandez High School    652.0\n",
       "Holden High School       581.0\n",
       "Huang High School        655.0\n",
       "Johnson High School      650.0\n",
       "Pena High School         609.0\n",
       "Rodriguez High School    637.0\n",
       "Shelton High School      600.0\n",
       "Thomas High School       638.0\n",
       "Wilson High School       578.0\n",
       "Wright High School       583.0\n",
       "Name: Per Student Budget, dtype: float64"
      ]
     },
     "execution_count": 406,
     "metadata": {},
     "output_type": "execute_result"
    }
   ],
   "source": [
    "# Calculate budget per school per student\n",
    "school_summary = data_complete_df.groupby([\"school_name\"]).mean()\n",
    "school_summary[\"Per Student Budget\"] = (school_summary[\"budget\"] / school_summary[\"size\"])\n",
    "school_budget_pp = school_summary[\"Per Student Budget\"]\n",
    "school_budget_pp"
   ]
  },
  {
   "cell_type": "code",
   "execution_count": 407,
   "metadata": {},
   "outputs": [
    {
     "data": {
      "text/plain": [
       "school_name\n",
       "Bailey High School       81.033963\n",
       "Cabrera High School      83.975780\n",
       "Figueroa High School     81.158020\n",
       "Ford High School         80.746258\n",
       "Griffin High School      83.816757\n",
       "Hernandez High School    80.934412\n",
       "Holden High School       83.814988\n",
       "Huang High School        81.182722\n",
       "Johnson High School      80.966394\n",
       "Pena High School         84.044699\n",
       "Rodriguez High School    80.744686\n",
       "Shelton High School      83.725724\n",
       "Thomas High School       83.848930\n",
       "Wilson High School       83.989488\n",
       "Wright High School       83.955000\n",
       "Name: reading_score, dtype: float64"
      ]
     },
     "execution_count": 407,
     "metadata": {},
     "output_type": "execute_result"
    }
   ],
   "source": [
    "# Calculate average reading scores\n",
    "school_summary = data_complete_df.groupby([\"school_name\"])\n",
    "school_reading_score_avg = school_summary[\"reading_score\"].mean()\n",
    "school_reading_score_avg"
   ]
  },
  {
   "cell_type": "code",
   "execution_count": 408,
   "metadata": {},
   "outputs": [
    {
     "data": {
      "text/plain": [
       "school_name\n",
       "Bailey High School       77.048432\n",
       "Cabrera High School      83.061895\n",
       "Figueroa High School     76.711767\n",
       "Ford High School         77.102592\n",
       "Griffin High School      83.351499\n",
       "Hernandez High School    77.289752\n",
       "Holden High School       83.803279\n",
       "Huang High School        76.629414\n",
       "Johnson High School      77.072464\n",
       "Pena High School         83.839917\n",
       "Rodriguez High School    76.842711\n",
       "Shelton High School      83.359455\n",
       "Thomas High School       83.418349\n",
       "Wilson High School       83.274201\n",
       "Wright High School       83.682222\n",
       "Name: math_score, dtype: float64"
      ]
     },
     "execution_count": 408,
     "metadata": {},
     "output_type": "execute_result"
    }
   ],
   "source": [
    "# Calculate average math scores\n",
    "school_summary = data_complete_df.groupby([\"school_name\"])\n",
    "school_math_score_avg = school_summary[\"math_score\"].mean()\n",
    "school_math_score_avg"
   ]
  },
  {
   "cell_type": "code",
   "execution_count": 409,
   "metadata": {},
   "outputs": [
    {
     "data": {
      "text/plain": [
       "school_name\n",
       "Bailey High School       81.93\n",
       "Cabrera High School      97.04\n",
       "Figueroa High School     80.74\n",
       "Ford High School         79.30\n",
       "Griffin High School      97.14\n",
       "Hernandez High School    80.86\n",
       "Holden High School       96.25\n",
       "Huang High School        81.32\n",
       "Johnson High School      81.22\n",
       "Pena High School         95.95\n",
       "Rodriguez High School    80.22\n",
       "Shelton High School      95.85\n",
       "Thomas High School       97.31\n",
       "Wilson High School       96.54\n",
       "Wright High School       96.61\n",
       "Name: % Passing Reading, dtype: float64"
      ]
     },
     "execution_count": 409,
     "metadata": {},
     "output_type": "execute_result"
    }
   ],
   "source": [
    "# Calculate percent of students in school passing in reading\n",
    "school_summary = data_complete_df.groupby([\"school_name\"]).mean()\n",
    "school_summary[\"% Passing Reading\"] = round(school_summary[\"passing_reading\"]*100,2)\n",
    "school_percent_passing_reading = school_summary[\"% Passing Reading\"]\n",
    "school_percent_passing_reading"
   ]
  },
  {
   "cell_type": "code",
   "execution_count": 410,
   "metadata": {},
   "outputs": [
    {
     "data": {
      "text/plain": [
       "school_name\n",
       "Bailey High School       66.68\n",
       "Cabrera High School      94.13\n",
       "Figueroa High School     65.99\n",
       "Ford High School         68.31\n",
       "Griffin High School      93.39\n",
       "Hernandez High School    66.75\n",
       "Holden High School       92.51\n",
       "Huang High School        65.68\n",
       "Johnson High School      66.06\n",
       "Pena High School         94.59\n",
       "Rodriguez High School    66.37\n",
       "Shelton High School      93.87\n",
       "Thomas High School       93.27\n",
       "Wilson High School       93.87\n",
       "Wright High School       93.33\n",
       "Name: % Passing Math, dtype: float64"
      ]
     },
     "execution_count": 410,
     "metadata": {},
     "output_type": "execute_result"
    }
   ],
   "source": [
    "# Calculate percent of students in school passing in math\n",
    "school_summary = data_complete_df.groupby([\"school_name\"]).mean()\n",
    "school_summary[\"% Passing Math\"] = round(school_summary[\"passing_math\"]*100,2)\n",
    "school_percent_passing_math = school_summary[\"% Passing Math\"]\n",
    "school_percent_passing_math"
   ]
  },
  {
   "cell_type": "code",
   "execution_count": 411,
   "metadata": {},
   "outputs": [
    {
     "data": {
      "text/plain": [
       "school_name\n",
       "Bailey High School       74.307\n",
       "Cabrera High School      95.587\n",
       "Figueroa High School     73.364\n",
       "Ford High School         73.804\n",
       "Griffin High School      95.266\n",
       "Hernandez High School    73.808\n",
       "Holden High School       94.379\n",
       "Huang High School        73.500\n",
       "Johnson High School      73.640\n",
       "Pena High School         95.270\n",
       "Rodriguez High School    73.293\n",
       "Shelton High School      94.861\n",
       "Thomas High School       95.291\n",
       "Wilson High School       95.204\n",
       "Wright High School       94.972\n",
       "Name: % Overall Passing, dtype: float64"
      ]
     },
     "execution_count": 411,
     "metadata": {},
     "output_type": "execute_result"
    }
   ],
   "source": [
    "# Calculate overall passing rate\n",
    "school_summary = data_complete_df.groupby([\"school_name\"]).mean()\n",
    "school_summary[\"% Overall Passing\"] = round(((school_summary[\"passing_reading\"] + school_summary[\"passing_math\"])/2)*100,3)\n",
    "school_percent_passing_overall = school_summary[\"% Overall Passing\"]\n",
    "school_percent_passing_overall"
   ]
  },
  {
   "cell_type": "code",
   "execution_count": 423,
   "metadata": {},
   "outputs": [
    {
     "data": {
      "text/html": [
       "<div>\n",
       "<style scoped>\n",
       "    .dataframe tbody tr th:only-of-type {\n",
       "        vertical-align: middle;\n",
       "    }\n",
       "\n",
       "    .dataframe tbody tr th {\n",
       "        vertical-align: top;\n",
       "    }\n",
       "\n",
       "    .dataframe thead th {\n",
       "        text-align: right;\n",
       "    }\n",
       "</style>\n",
       "<table border=\"1\" class=\"dataframe\">\n",
       "  <thead>\n",
       "    <tr style=\"text-align: right;\">\n",
       "      <th></th>\n",
       "      <th>School Type</th>\n",
       "      <th>Total Number of Students</th>\n",
       "      <th>Total School Budget</th>\n",
       "      <th>Per Student Budget</th>\n",
       "      <th>Average Reading Score</th>\n",
       "      <th>Average Math Score</th>\n",
       "      <th>% Passing Reading</th>\n",
       "      <th>% Passing Math</th>\n",
       "      <th>% Overall Passing</th>\n",
       "    </tr>\n",
       "  </thead>\n",
       "  <tbody>\n",
       "    <tr>\n",
       "      <td>Bailey High School</td>\n",
       "      <td>District</td>\n",
       "      <td>4,976.0</td>\n",
       "      <td>$3,124,928.00</td>\n",
       "      <td>$628.00</td>\n",
       "      <td>81.03</td>\n",
       "      <td>77.05</td>\n",
       "      <td>81.93%</td>\n",
       "      <td>66.68%</td>\n",
       "      <td>74.31%</td>\n",
       "    </tr>\n",
       "    <tr>\n",
       "      <td>Cabrera High School</td>\n",
       "      <td>Charter</td>\n",
       "      <td>1,858.0</td>\n",
       "      <td>$1,081,356.00</td>\n",
       "      <td>$582.00</td>\n",
       "      <td>83.98</td>\n",
       "      <td>83.06</td>\n",
       "      <td>97.04%</td>\n",
       "      <td>94.13%</td>\n",
       "      <td>95.59%</td>\n",
       "    </tr>\n",
       "    <tr>\n",
       "      <td>Figueroa High School</td>\n",
       "      <td>District</td>\n",
       "      <td>2,949.0</td>\n",
       "      <td>$1,884,411.00</td>\n",
       "      <td>$639.00</td>\n",
       "      <td>81.16</td>\n",
       "      <td>76.71</td>\n",
       "      <td>80.74%</td>\n",
       "      <td>65.99%</td>\n",
       "      <td>73.36%</td>\n",
       "    </tr>\n",
       "    <tr>\n",
       "      <td>Ford High School</td>\n",
       "      <td>District</td>\n",
       "      <td>2,739.0</td>\n",
       "      <td>$1,763,916.00</td>\n",
       "      <td>$644.00</td>\n",
       "      <td>80.75</td>\n",
       "      <td>77.10</td>\n",
       "      <td>79.30%</td>\n",
       "      <td>68.31%</td>\n",
       "      <td>73.80%</td>\n",
       "    </tr>\n",
       "    <tr>\n",
       "      <td>Griffin High School</td>\n",
       "      <td>Charter</td>\n",
       "      <td>1,468.0</td>\n",
       "      <td>$917,500.00</td>\n",
       "      <td>$625.00</td>\n",
       "      <td>83.82</td>\n",
       "      <td>83.35</td>\n",
       "      <td>97.14%</td>\n",
       "      <td>93.39%</td>\n",
       "      <td>95.27%</td>\n",
       "    </tr>\n",
       "    <tr>\n",
       "      <td>Hernandez High School</td>\n",
       "      <td>District</td>\n",
       "      <td>4,635.0</td>\n",
       "      <td>$3,022,020.00</td>\n",
       "      <td>$652.00</td>\n",
       "      <td>80.93</td>\n",
       "      <td>77.29</td>\n",
       "      <td>80.86%</td>\n",
       "      <td>66.75%</td>\n",
       "      <td>73.81%</td>\n",
       "    </tr>\n",
       "    <tr>\n",
       "      <td>Holden High School</td>\n",
       "      <td>Charter</td>\n",
       "      <td>427.0</td>\n",
       "      <td>$248,087.00</td>\n",
       "      <td>$581.00</td>\n",
       "      <td>83.81</td>\n",
       "      <td>83.80</td>\n",
       "      <td>96.25%</td>\n",
       "      <td>92.51%</td>\n",
       "      <td>94.38%</td>\n",
       "    </tr>\n",
       "    <tr>\n",
       "      <td>Huang High School</td>\n",
       "      <td>District</td>\n",
       "      <td>2,917.0</td>\n",
       "      <td>$1,910,635.00</td>\n",
       "      <td>$655.00</td>\n",
       "      <td>81.18</td>\n",
       "      <td>76.63</td>\n",
       "      <td>81.32%</td>\n",
       "      <td>65.68%</td>\n",
       "      <td>73.50%</td>\n",
       "    </tr>\n",
       "    <tr>\n",
       "      <td>Johnson High School</td>\n",
       "      <td>District</td>\n",
       "      <td>4,761.0</td>\n",
       "      <td>$3,094,650.00</td>\n",
       "      <td>$650.00</td>\n",
       "      <td>80.97</td>\n",
       "      <td>77.07</td>\n",
       "      <td>81.22%</td>\n",
       "      <td>66.06%</td>\n",
       "      <td>73.64%</td>\n",
       "    </tr>\n",
       "    <tr>\n",
       "      <td>Pena High School</td>\n",
       "      <td>Charter</td>\n",
       "      <td>962.0</td>\n",
       "      <td>$585,858.00</td>\n",
       "      <td>$609.00</td>\n",
       "      <td>84.04</td>\n",
       "      <td>83.84</td>\n",
       "      <td>95.95%</td>\n",
       "      <td>94.59%</td>\n",
       "      <td>95.27%</td>\n",
       "    </tr>\n",
       "    <tr>\n",
       "      <td>Rodriguez High School</td>\n",
       "      <td>District</td>\n",
       "      <td>3,999.0</td>\n",
       "      <td>$2,547,363.00</td>\n",
       "      <td>$637.00</td>\n",
       "      <td>80.74</td>\n",
       "      <td>76.84</td>\n",
       "      <td>80.22%</td>\n",
       "      <td>66.37%</td>\n",
       "      <td>73.29%</td>\n",
       "    </tr>\n",
       "    <tr>\n",
       "      <td>Shelton High School</td>\n",
       "      <td>Charter</td>\n",
       "      <td>1,761.0</td>\n",
       "      <td>$1,056,600.00</td>\n",
       "      <td>$600.00</td>\n",
       "      <td>83.73</td>\n",
       "      <td>83.36</td>\n",
       "      <td>95.85%</td>\n",
       "      <td>93.87%</td>\n",
       "      <td>94.86%</td>\n",
       "    </tr>\n",
       "    <tr>\n",
       "      <td>Thomas High School</td>\n",
       "      <td>Charter</td>\n",
       "      <td>1,635.0</td>\n",
       "      <td>$1,043,130.00</td>\n",
       "      <td>$638.00</td>\n",
       "      <td>83.85</td>\n",
       "      <td>83.42</td>\n",
       "      <td>97.31%</td>\n",
       "      <td>93.27%</td>\n",
       "      <td>95.29%</td>\n",
       "    </tr>\n",
       "    <tr>\n",
       "      <td>Wilson High School</td>\n",
       "      <td>Charter</td>\n",
       "      <td>2,283.0</td>\n",
       "      <td>$1,319,574.00</td>\n",
       "      <td>$578.00</td>\n",
       "      <td>83.99</td>\n",
       "      <td>83.27</td>\n",
       "      <td>96.54%</td>\n",
       "      <td>93.87%</td>\n",
       "      <td>95.20%</td>\n",
       "    </tr>\n",
       "    <tr>\n",
       "      <td>Wright High School</td>\n",
       "      <td>Charter</td>\n",
       "      <td>1,800.0</td>\n",
       "      <td>$1,049,400.00</td>\n",
       "      <td>$583.00</td>\n",
       "      <td>83.96</td>\n",
       "      <td>83.68</td>\n",
       "      <td>96.61%</td>\n",
       "      <td>93.33%</td>\n",
       "      <td>94.97%</td>\n",
       "    </tr>\n",
       "  </tbody>\n",
       "</table>\n",
       "</div>"
      ],
      "text/plain": [
       "                      School Type Total Number of Students  \\\n",
       "Bailey High School       District                  4,976.0   \n",
       "Cabrera High School       Charter                  1,858.0   \n",
       "Figueroa High School     District                  2,949.0   \n",
       "Ford High School         District                  2,739.0   \n",
       "Griffin High School       Charter                  1,468.0   \n",
       "Hernandez High School    District                  4,635.0   \n",
       "Holden High School        Charter                    427.0   \n",
       "Huang High School        District                  2,917.0   \n",
       "Johnson High School      District                  4,761.0   \n",
       "Pena High School          Charter                    962.0   \n",
       "Rodriguez High School    District                  3,999.0   \n",
       "Shelton High School       Charter                  1,761.0   \n",
       "Thomas High School        Charter                  1,635.0   \n",
       "Wilson High School        Charter                  2,283.0   \n",
       "Wright High School        Charter                  1,800.0   \n",
       "\n",
       "                      Total School Budget Per Student Budget  \\\n",
       "Bailey High School          $3,124,928.00            $628.00   \n",
       "Cabrera High School         $1,081,356.00            $582.00   \n",
       "Figueroa High School        $1,884,411.00            $639.00   \n",
       "Ford High School            $1,763,916.00            $644.00   \n",
       "Griffin High School           $917,500.00            $625.00   \n",
       "Hernandez High School       $3,022,020.00            $652.00   \n",
       "Holden High School            $248,087.00            $581.00   \n",
       "Huang High School           $1,910,635.00            $655.00   \n",
       "Johnson High School         $3,094,650.00            $650.00   \n",
       "Pena High School              $585,858.00            $609.00   \n",
       "Rodriguez High School       $2,547,363.00            $637.00   \n",
       "Shelton High School         $1,056,600.00            $600.00   \n",
       "Thomas High School          $1,043,130.00            $638.00   \n",
       "Wilson High School          $1,319,574.00            $578.00   \n",
       "Wright High School          $1,049,400.00            $583.00   \n",
       "\n",
       "                       Average Reading Score  Average Math Score  \\\n",
       "Bailey High School                     81.03               77.05   \n",
       "Cabrera High School                    83.98               83.06   \n",
       "Figueroa High School                   81.16               76.71   \n",
       "Ford High School                       80.75               77.10   \n",
       "Griffin High School                    83.82               83.35   \n",
       "Hernandez High School                  80.93               77.29   \n",
       "Holden High School                     83.81               83.80   \n",
       "Huang High School                      81.18               76.63   \n",
       "Johnson High School                    80.97               77.07   \n",
       "Pena High School                       84.04               83.84   \n",
       "Rodriguez High School                  80.74               76.84   \n",
       "Shelton High School                    83.73               83.36   \n",
       "Thomas High School                     83.85               83.42   \n",
       "Wilson High School                     83.99               83.27   \n",
       "Wright High School                     83.96               83.68   \n",
       "\n",
       "                      % Passing Reading % Passing Math % Overall Passing  \n",
       "Bailey High School               81.93%         66.68%            74.31%  \n",
       "Cabrera High School              97.04%         94.13%            95.59%  \n",
       "Figueroa High School             80.74%         65.99%            73.36%  \n",
       "Ford High School                 79.30%         68.31%            73.80%  \n",
       "Griffin High School              97.14%         93.39%            95.27%  \n",
       "Hernandez High School            80.86%         66.75%            73.81%  \n",
       "Holden High School               96.25%         92.51%            94.38%  \n",
       "Huang High School                81.32%         65.68%            73.50%  \n",
       "Johnson High School              81.22%         66.06%            73.64%  \n",
       "Pena High School                 95.95%         94.59%            95.27%  \n",
       "Rodriguez High School            80.22%         66.37%            73.29%  \n",
       "Shelton High School              95.85%         93.87%            94.86%  \n",
       "Thomas High School               97.31%         93.27%            95.29%  \n",
       "Wilson High School               96.54%         93.87%            95.20%  \n",
       "Wright High School               96.61%         93.33%            94.97%  "
      ]
     },
     "execution_count": 423,
     "metadata": {},
     "output_type": "execute_result"
    }
   ],
   "source": [
    "# School Summary DataFrame\n",
    "school_summary = pd.DataFrame({\"School Type\": school_type,\n",
    "                               \"Total Number of Students\": school_ADM,\n",
    "                               \"Total School Budget\": school_budget,\n",
    "                               \"Per Student Budget\": school_budget_pp,\n",
    "                               \"Average Reading Score\": round(school_reading_score_avg, 2),\n",
    "                               \"Average Math Score\": round(school_math_score_avg, 2),\n",
    "                               \"% Passing Reading\": round(school_percent_passing_reading, 2),\n",
    "                               \"% Passing Math\": round(school_percent_passing_math, 2),\n",
    "                               \"% Overall Passing\": round(school_percent_passing_overall, 2)})\n",
    "# Format Table\n",
    "school_summary[\"Total Number of Students\"] = school_summary[\"Total Number of Students\"].astype(float).map(\"{:,}\".format)\n",
    "school_summary[\"Total School Budget\"] = school_summary[\"Total School Budget\"].astype(float).map(\"${:,.2f}\".format)\n",
    "school_summary[\"Per Student Budget\"] = school_summary[\"Per Student Budget\"].astype(float).map(\"${:,.2f}\".format)\n",
    "school_summary[\"% Passing Reading\"] = school_summary[\"% Passing Reading\"].astype(float).map(\"{:,.2f}%\".format)\n",
    "school_summary[\"% Passing Math\"] = school_summary[\"% Passing Math\"].astype(float).map(\"{:,.2f}%\".format)\n",
    "school_summary[\"% Overall Passing\"] = school_summary[\"% Overall Passing\"].astype(float).map(\"{:,.2f}%\".format)\n",
    "\n",
    "\n",
    "# Display\n",
    "school_summary"
   ]
  },
  {
   "cell_type": "code",
   "execution_count": null,
   "metadata": {},
   "outputs": [],
   "source": []
  },
  {
   "cell_type": "code",
   "execution_count": null,
   "metadata": {},
   "outputs": [],
   "source": []
  },
  {
   "cell_type": "code",
   "execution_count": null,
   "metadata": {},
   "outputs": [],
   "source": []
  },
  {
   "cell_type": "code",
   "execution_count": null,
   "metadata": {},
   "outputs": [],
   "source": []
  }
 ],
 "metadata": {
  "kernelspec": {
   "display_name": "Python 3",
   "language": "python",
   "name": "python3"
  },
  "language_info": {
   "codemirror_mode": {
    "name": "ipython",
    "version": 3
   },
   "file_extension": ".py",
   "mimetype": "text/x-python",
   "name": "python",
   "nbconvert_exporter": "python",
   "pygments_lexer": "ipython3",
   "version": "3.7.4"
  }
 },
 "nbformat": 4,
 "nbformat_minor": 2
}
